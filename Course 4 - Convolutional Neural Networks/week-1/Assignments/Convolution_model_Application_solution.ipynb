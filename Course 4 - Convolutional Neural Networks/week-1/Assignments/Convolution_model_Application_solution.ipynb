{
  "cells": [
    {
      "cell_type": "markdown",
      "source": [
        "[![open in colab](https://colab.research.google.com/assets/colab-badge.svg)](https://colab.research.google.com/drive/1GsZIUdBPmjZMBwDFmyAdW4Hz9jjYE2zQ?usp=sharing)"
      ],
      "metadata": {
        "id": "afAqEBXKXsIh"
      }
    },
    {
      "cell_type": "markdown",
      "metadata": {
        "id": "iALhOatTXraI"
      },
      "source": [
        "# Convolutional Neural Networks: Application\n",
        "\n",
        "Welcome to Course 4's second assignment! In this notebook, you will:\n",
        "\n",
        "- Create a mood classifer using the TF Keras Sequential API\n",
        "- Build a ConvNet to identify sign language digits using the TF Keras Functional API\n",
        "\n",
        "**After this assignment you will be able to:**\n",
        "\n",
        "- Build and train a ConvNet in TensorFlow for a __binary__ classification problem\n",
        "- Build and train a ConvNet in TensorFlow for a __multiclass__ classification problem\n",
        "- Explain different use cases for the Sequential and Functional APIs\n",
        "\n",
        "To complete this assignment, you should already be familiar with TensorFlow. If you are not, please refer back to the **TensorFlow Tutorial** of the third week of Course 2 (\"**Improving deep neural networks**\")."
      ]
    },
    {
      "cell_type": "markdown",
      "metadata": {
        "id": "Na-Hk-EHXraL"
      },
      "source": [
        "## Table of Contents\n",
        "\n",
        "- [1 - Packages](#1)\n",
        "    - [1.1 - Load the Data and Split the Data into Train/Test Sets](#1-1)\n",
        "- [2 - Layers in TF Keras](#2)\n",
        "- [3 - The Sequential API](#3)\n",
        "    - [3.1 - Create the Sequential Model](#3-1)\n",
        "        - [Exercise 1 - happyModel](#ex-1)\n",
        "    - [3.2 - Train and Evaluate the Model](#3-2)\n",
        "- [4 - The Functional API](#4)\n",
        "    - [4.1 - Load the SIGNS Dataset](#4-1)\n",
        "    - [4.2 - Split the Data into Train/Test Sets](#4-2)\n",
        "    - [4.3 - Forward Propagation](#4-3)\n",
        "        - [Exercise 2 - convolutional_model](#ex-2)\n",
        "    - [4.4 - Train the Model](#4-4)\n",
        "- [5 - History Object](#5)\n",
        "- [6 - Bibliography](#6)"
      ]
    },
    {
      "cell_type": "markdown",
      "metadata": {
        "id": "wCsHX6rvXraM"
      },
      "source": [
        "<a name='1'></a>\n",
        "## 1 - Packages\n",
        "\n",
        "As usual, begin by loading in the packages."
      ]
    },
    {
      "cell_type": "code",
      "execution_count": null,
      "metadata": {
        "id": "fm4UMlhcXraM"
      },
      "outputs": [],
      "source": [
        "import math\n",
        "import numpy as np\n",
        "import h5py\n",
        "import matplotlib.pyplot as plt\n",
        "from matplotlib.pyplot import imread\n",
        "import scipy\n",
        "from PIL import Image\n",
        "import pandas as pd\n",
        "import tensorflow as tf\n",
        "import tensorflow.keras.layers as tfl\n",
        "from tensorflow.python.framework import ops\n",
        "from cnn_utils import *\n",
        "from test_utils import summary, comparator\n",
        "\n",
        "%matplotlib inline\n",
        "np.random.seed(1)"
      ]
    },
    {
      "cell_type": "markdown",
      "metadata": {
        "id": "ho9CpWKUXraN"
      },
      "source": [
        "<a name='1-1'></a>\n",
        "### 1.1 - Load the Data and Split the Data into Train/Test Sets\n",
        "\n",
        "You'll be using the Happy House dataset for this part of the assignment, which contains images of peoples' faces. Your task will be to build a ConvNet that determines whether the people in the images are smiling or not -- because they only get to enter the house if they're smiling!  "
      ]
    },
    {
      "cell_type": "code",
      "execution_count": null,
      "metadata": {
        "id": "YidqH-zvXraO",
        "outputId": "b6706f2e-a5bb-4852-c981-6956f540f18b"
      },
      "outputs": [
        {
          "name": "stdout",
          "output_type": "stream",
          "text": [
            "number of training examples = 600\n",
            "number of test examples = 150\n",
            "X_train shape: (600, 64, 64, 3)\n",
            "Y_train shape: (600, 1)\n",
            "X_test shape: (150, 64, 64, 3)\n",
            "Y_test shape: (150, 1)\n"
          ]
        }
      ],
      "source": [
        "X_train_orig, Y_train_orig, X_test_orig, Y_test_orig, classes = load_happy_dataset()\n",
        "\n",
        "# Normalize image vectors\n",
        "X_train = X_train_orig/255.\n",
        "X_test = X_test_orig/255.\n",
        "\n",
        "# Reshape\n",
        "Y_train = Y_train_orig.T\n",
        "Y_test = Y_test_orig.T\n",
        "\n",
        "print (\"number of training examples = \" + str(X_train.shape[0]))\n",
        "print (\"number of test examples = \" + str(X_test.shape[0]))\n",
        "print (\"X_train shape: \" + str(X_train.shape))\n",
        "print (\"Y_train shape: \" + str(Y_train.shape))\n",
        "print (\"X_test shape: \" + str(X_test.shape))\n",
        "print (\"Y_test shape: \" + str(Y_test.shape))"
      ]
    },
    {
      "cell_type": "markdown",
      "metadata": {
        "id": "BxNkUxQzXraP"
      },
      "source": [
        "You can display the images contained in the dataset. Images are **64x64** pixels in RGB format (3 channels)."
      ]
    },
    {
      "cell_type": "code",
      "execution_count": null,
      "metadata": {
        "id": "GS5-T0WcXraP",
        "outputId": "7615c0d6-034a-40b7-80f9-f9b133fc5e43"
      },
      "outputs": [
        {
          "data": {
            "image/png": "[encoded data removed]",
            "text/plain": [
              "<Figure size 432x288 with 1 Axes>"
            ]
          },
          "metadata": {
            "needs_background": "light"
          },
          "output_type": "display_data"
        }
      ],
      "source": [
        "index = 120\n",
        "plt.imshow(X_train_orig[index]) #display sample training image\n",
        "plt.show()"
      ]
    },
    {
      "cell_type": "markdown",
      "metadata": {
        "id": "yuKIJGeuXraP"
      },
      "source": [
        "<a name='2'></a>\n",
        "## 2 - Layers in TF Keras \n",
        "\n",
        "In the previous assignment, you created layers manually in numpy. In TF Keras, you don't have to write code directly to create layers. Rather, TF Keras has pre-defined layers you can use. \n",
        "\n",
        "When you create a layer in TF Keras, you are creating a function that takes some input and transforms it into an output you can reuse later. Nice and easy! "
      ]
    },
    {
      "cell_type": "markdown",
      "metadata": {
        "id": "rOvHM1vaXraQ"
      },
      "source": [
        "<a name='3'></a>\n",
        "## 3 - The Sequential API\n",
        "\n",
        "In the previous assignment, you built helper functions using `numpy` to understand the mechanics behind convolutional neural networks. Most practical applications of deep learning today are built using programming frameworks, which have many built-in functions you can simply call. Keras is a high-level abstraction built on top of TensorFlow, which allows for even more simplified and optimized model creation and training. \n",
        "\n",
        "For the first part of this assignment, you'll create a model using TF Keras' Sequential API, which allows you to build layer by layer, and is ideal for building models where each layer has **exactly one** input tensor and **one** output tensor. \n",
        "\n",
        "As you'll see, using the Sequential API is simple and straightforward, but is only appropriate for simpler, more straightforward tasks. Later in this notebook you'll spend some time building with a more flexible, powerful alternative: the Functional API. \n",
        " "
      ]
    },
    {
      "cell_type": "markdown",
      "metadata": {
        "id": "TEeKVUVjXraQ"
      },
      "source": [
        "<a name='3-1'></a>\n",
        "### 3.1 - Create the Sequential Model\n",
        "\n",
        "As mentioned earlier, the TensorFlow Keras Sequential API can be used to build simple models with layer operations that proceed in a sequential order. \n",
        "\n",
        "You can also add layers incrementally to a Sequential model with the `.add()` method, or remove them using the `.pop()` method, much like you would in a regular Python list.\n",
        "\n",
        "Actually, you can think of a Sequential model as behaving like a list of layers. Like Python lists, Sequential layers are ordered, and the order in which they are specified matters.  If your model is non-linear or contains layers with multiple inputs or outputs, a Sequential model wouldn't be the right choice!\n",
        "\n",
        "For any layer construction in Keras, you'll need to specify the input shape in advance. This is because in Keras, the shape of the weights is based on the shape of the inputs. The weights are only created when the model first sees some input data. Sequential models can be created by passing a list of layers to the Sequential constructor, like you will do in the next assignment.\n",
        "\n",
        "<a name='ex-1'></a>\n",
        "### Exercise 1 - happyModel\n",
        "\n",
        "Implement the `happyModel` function below to build the following model: `ZEROPAD2D -> CONV2D -> BATCHNORM -> RELU -> MAXPOOL -> FLATTEN -> DENSE`. Take help from [tf.keras.layers](https://www.tensorflow.org/api_docs/python/tf/keras/layers) \n",
        "\n",
        "Also, plug in the following parameters for all the steps:\n",
        "\n",
        " - [ZeroPadding2D](https://www.tensorflow.org/api_docs/python/tf/keras/layers/ZeroPadding2D): padding 3, input shape 64 x 64 x 3\n",
        " - [Conv2D](https://www.tensorflow.org/api_docs/python/tf/keras/layers/Conv2D): Use 32 7x7 filters, stride 1\n",
        " - [BatchNormalization](https://www.tensorflow.org/api_docs/python/tf/keras/layers/BatchNormalization): for axis 3\n",
        " - [ReLU](https://www.tensorflow.org/api_docs/python/tf/keras/layers/ReLU)\n",
        " - [MaxPool2D](https://www.tensorflow.org/api_docs/python/tf/keras/layers/MaxPool2D): Using default parameters\n",
        " - [Flatten](https://www.tensorflow.org/api_docs/python/tf/keras/layers/Flatten) the previous output.\n",
        " - Fully-connected ([Dense](https://www.tensorflow.org/api_docs/python/tf/keras/layers/Dense)) layer: Apply a fully connected layer with 1 neuron and a sigmoid activation. \n",
        " \n",
        " \n",
        " **Hint:**\n",
        " \n",
        " Use **tfl** as shorthand for **tensorflow.keras.layers**"
      ]
    },
    {
      "cell_type": "code",
      "execution_count": null,
      "metadata": {
        "deletable": false,
        "nbgrader": {
          "cell_type": "code",
          "checksum": "95d28b191f257bdd5b70c7b8952559d5",
          "grade": false,
          "grade_id": "cell-0e56d3fc28b69aec",
          "locked": false,
          "schema_version": 3,
          "solution": true,
          "task": false
        },
        "id": "5Chf8nvKXraR"
      },
      "outputs": [],
      "source": [
        "# GRADED FUNCTION: happyModel\n",
        "\n",
        "def happyModel():\n",
        "    \"\"\"\n",
        "    Implements the forward propagation for the binary classification model:\n",
        "    ZEROPAD2D -> CONV2D -> BATCHNORM -> RELU -> MAXPOOL -> FLATTEN -> DENSE\n",
        "    \n",
        "    Note that for simplicity and grading purposes, you'll hard-code all the values\n",
        "    such as the stride and kernel (filter) sizes. \n",
        "    Normally, functions should take these values as function parameters.\n",
        "    \n",
        "    Arguments:\n",
        "    None\n",
        "\n",
        "    Returns:\n",
        "    model -- TF Keras model (object containing the information for the entire training process) \n",
        "    \"\"\"\n",
        "    model = tf.keras.Sequential([\n",
        "            ## ZeroPadding2D with padding 3, input shape of 64 x 64 x 3\n",
        "            tfl.ZeroPadding2D(padding = 3,input_shape=(64,64,3)),\n",
        "            ## Conv2D with 32 7x7 filters and stride of 1\n",
        "            tfl.Conv2D(filters=32, kernel_size=7, strides=1),\n",
        "            ## BatchNormalization for axis 3\n",
        "            tfl.BatchNormalization(axis=3),\n",
        "            ## ReLU\n",
        "            tfl.ReLU(),\n",
        "            ## Max Pooling 2D with default parameters\n",
        "            tfl.MaxPool2D(),\n",
        "            ## Flatten layer\n",
        "            tfl.Flatten(),\n",
        "            ## Dense layer with 1 unit for output & 'sigmoid' activation\n",
        "            tfl.Dense(1, activation='sigmoid')\n",
        "        ])\n",
        "    \n",
        "    return model"
      ]
    },
    {
      "cell_type": "code",
      "execution_count": null,
      "metadata": {
        "deletable": false,
        "editable": false,
        "nbgrader": {
          "cell_type": "code",
          "checksum": "8d3575c950e2e78149be2d05d671c80d",
          "grade": true,
          "grade_id": "cell-e3e1046e5c33d775",
          "locked": true,
          "points": 10,
          "schema_version": 3,
          "solution": false,
          "task": false
        },
        "id": "CbpxAh5YXraR",
        "outputId": "240d196a-899a-4422-f772-55a3e03b9470"
      },
      "outputs": [
        {
          "name": "stdout",
          "output_type": "stream",
          "text": [
            "['ZeroPadding2D', (None, 70, 70, 3), 0, ((3, 3), (3, 3))]\n",
            "['Conv2D', (None, 64, 64, 32), 4736, 'valid', 'linear', 'GlorotUniform']\n",
            "['BatchNormalization', (None, 64, 64, 32), 128]\n",
            "['ReLU', (None, 64, 64, 32), 0]\n",
            "['MaxPooling2D', (None, 32, 32, 32), 0, (2, 2), (2, 2), 'valid']\n",
            "['Flatten', (None, 32768), 0]\n",
            "['Dense', (None, 1), 32769, 'sigmoid']\n",
            "\u001b[32mAll tests passed!\u001b[0m\n"
          ]
        }
      ],
      "source": [
        "happy_model = happyModel()\n",
        "# Print a summary for each layer\n",
        "for layer in summary(happy_model):\n",
        "    print(layer)\n",
        "    \n",
        "output = [['ZeroPadding2D', (None, 70, 70, 3), 0, ((3, 3), (3, 3))],\n",
        "            ['Conv2D', (None, 64, 64, 32), 4736, 'valid', 'linear', 'GlorotUniform'],\n",
        "            ['BatchNormalization', (None, 64, 64, 32), 128],\n",
        "            ['ReLU', (None, 64, 64, 32), 0],\n",
        "            ['MaxPooling2D', (None, 32, 32, 32), 0, (2, 2), (2, 2), 'valid'],\n",
        "            ['Flatten', (None, 32768), 0],\n",
        "            ['Dense', (None, 1), 32769, 'sigmoid']]\n",
        "    \n",
        "comparator(summary(happy_model), output)"
      ]
    },
    {
      "cell_type": "markdown",
      "metadata": {
        "id": "ki-iI-ieXraR"
      },
      "source": [
        "Now that your model is created, you can compile it for training with an optimizer and loss of your choice. When the string `accuracy` is specified as a metric, the type of accuracy used will be automatically converted based on the loss function used. This is one of the many optimizations built into TensorFlow that make your life easier! If you'd like to read more on how the compiler operates, check the docs [here](https://www.tensorflow.org/api_docs/python/tf/keras/Model#compile)."
      ]
    },
    {
      "cell_type": "code",
      "execution_count": null,
      "metadata": {
        "id": "KtKkRV6GXraS"
      },
      "outputs": [],
      "source": [
        "happy_model.compile(optimizer='adam',\n",
        "                   loss='binary_crossentropy',\n",
        "                   metrics=['accuracy'])"
      ]
    },
    {
      "cell_type": "markdown",
      "metadata": {
        "id": "hPnf4DzeXraS"
      },
      "source": [
        "It's time to check your model's parameters with the `.summary()` method. This will display the types of layers you have, the shape of the outputs, and how many parameters are in each layer. "
      ]
    },
    {
      "cell_type": "code",
      "execution_count": null,
      "metadata": {
        "id": "_YEwLlHrXraS",
        "outputId": "2094afcb-bf86-480e-dbd9-0c4d38c973f1"
      },
      "outputs": [
        {
          "name": "stdout",
          "output_type": "stream",
          "text": [
            "Model: \"sequential\"\n",
            "_________________________________________________________________\n",
            "Layer (type)                 Output Shape              Param #   \n",
            "=================================================================\n",
            "zero_padding2d_1 (ZeroPaddin (None, 70, 70, 3)         0         \n",
            "_________________________________________________________________\n",
            "conv2d (Conv2D)              (None, 64, 64, 32)        4736      \n",
            "_________________________________________________________________\n",
            "batch_normalization (BatchNo (None, 64, 64, 32)        128       \n",
            "_________________________________________________________________\n",
            "re_lu (ReLU)                 (None, 64, 64, 32)        0         \n",
            "_________________________________________________________________\n",
            "max_pooling2d (MaxPooling2D) (None, 32, 32, 32)        0         \n",
            "_________________________________________________________________\n",
            "flatten (Flatten)            (None, 32768)             0         \n",
            "_________________________________________________________________\n",
            "dense (Dense)                (None, 1)                 32769     \n",
            "=================================================================\n",
            "Total params: 37,633\n",
            "Trainable params: 37,569\n",
            "Non-trainable params: 64\n",
            "_________________________________________________________________\n"
          ]
        }
      ],
      "source": [
        "happy_model.summary()"
      ]
    },
    {
      "cell_type": "markdown",
      "metadata": {
        "id": "FQwbPCJjXraS"
      },
      "source": [
        "<a name='3-2'></a>\n",
        "### 3.2 - Train and Evaluate the Model\n",
        "\n",
        "After creating the model, compiling it with your choice of optimizer and loss function, and doing a sanity check on its contents, you are now ready to build! \n",
        "\n",
        "Simply call `.fit()` to train. That's it! No need for mini-batching, saving, or complex backpropagation computations. That's all been done for you, as you're using a TensorFlow dataset with the batches specified already. You do have the option to specify epoch number or minibatch size if you like (for example, in the case of an un-batched dataset)."
      ]
    },
    {
      "cell_type": "code",
      "execution_count": null,
      "metadata": {
        "id": "My-539DJXraS",
        "outputId": "4568555c-eadc-4d39-b89b-9432857b2135"
      },
      "outputs": [
        {
          "name": "stdout",
          "output_type": "stream",
          "text": [
            "Epoch 1/10\n",
            "38/38 [==============================] - 4s 100ms/step - loss: 1.1166 - accuracy: 0.6933\n",
            "Epoch 2/10\n",
            "38/38 [==============================] - 4s 95ms/step - loss: 0.2666 - accuracy: 0.8933\n",
            "Epoch 3/10\n",
            "38/38 [==============================] - 4s 98ms/step - loss: 0.1767 - accuracy: 0.9250\n",
            "Epoch 4/10\n",
            "38/38 [==============================] - 4s 95ms/step - loss: 0.1413 - accuracy: 0.9417\n",
            "Epoch 5/10\n",
            "38/38 [==============================] - 4s 97ms/step - loss: 0.0797 - accuracy: 0.9733\n",
            "Epoch 6/10\n",
            "38/38 [==============================] - 4s 100ms/step - loss: 0.0805 - accuracy: 0.9650\n",
            "Epoch 7/10\n",
            "38/38 [==============================] - 4s 95ms/step - loss: 0.0714 - accuracy: 0.9717\n",
            "Epoch 8/10\n",
            "38/38 [==============================] - 4s 100ms/step - loss: 0.1025 - accuracy: 0.9567\n",
            "Epoch 9/10\n",
            "38/38 [==============================] - 4s 95ms/step - loss: 0.0869 - accuracy: 0.9633\n",
            "Epoch 10/10\n",
            "38/38 [==============================] - 4s 97ms/step - loss: 0.0714 - accuracy: 0.9800\n"
          ]
        },
        {
          "data": {
            "text/plain": [
              "<tensorflow.python.keras.callbacks.History at 0x7f87518291d0>"
            ]
          },
          "execution_count": 14,
          "metadata": {},
          "output_type": "execute_result"
        }
      ],
      "source": [
        "happy_model.fit(X_train, Y_train, epochs=10, batch_size=16)"
      ]
    },
    {
      "cell_type": "markdown",
      "metadata": {
        "id": "HNM8fQcBXraT"
      },
      "source": [
        "After that completes, just use `.evaluate()` to evaluate against your test set. This function will print the value of the loss function and the performance metrics specified during the compilation of the model. In this case, the `binary_crossentropy` and the `accuracy` respectively."
      ]
    },
    {
      "cell_type": "code",
      "execution_count": null,
      "metadata": {
        "id": "Oc0nWnrVXraT",
        "outputId": "1b759bfe-7713-4ef0-d3e6-9ebf5b0fc132"
      },
      "outputs": [
        {
          "name": "stdout",
          "output_type": "stream",
          "text": [
            "5/5 [==============================] - 0s 29ms/step - loss: 0.3817 - accuracy: 0.8200\n"
          ]
        },
        {
          "data": {
            "text/plain": [
              "[0.3816836178302765, 0.8199999928474426]"
            ]
          },
          "execution_count": 15,
          "metadata": {},
          "output_type": "execute_result"
        }
      ],
      "source": [
        "happy_model.evaluate(X_test, Y_test)"
      ]
    },
    {
      "cell_type": "markdown",
      "metadata": {
        "id": "51-yQdzbXraT"
      },
      "source": [
        "Easy, right? But what if you need to build a model with shared layers, branches, or multiple inputs and outputs? This is where Sequential, with its beautifully simple yet limited functionality, won't be able to help you. \n",
        "\n",
        "Next up: Enter the Functional API, your slightly more complex, highly flexible friend.  "
      ]
    },
    {
      "cell_type": "markdown",
      "metadata": {
        "id": "PstAJcy5XraT"
      },
      "source": [
        "<a name='4'></a>\n",
        "## 4 - The Functional API"
      ]
    },
    {
      "cell_type": "markdown",
      "metadata": {
        "id": "TWKU6q5wXraT"
      },
      "source": [
        "Welcome to the second half of the assignment, where you'll use Keras' flexible [Functional API](https://www.tensorflow.org/guide/keras/functional) to build a ConvNet that can differentiate between 6 sign language digits. \n",
        "\n",
        "The Functional API can handle models with non-linear topology, shared layers, as well as layers with multiple inputs or outputs. Imagine that, where the Sequential API requires the model to move in a linear fashion through its layers, the Functional API allows much more flexibility. Where Sequential is a straight line, a Functional model is a graph, where the nodes of the layers can connect in many more ways than one. \n",
        "\n",
        "In the visual example below, the one possible direction of the movement Sequential model is shown in contrast to a skip connection, which is just one of the many ways a Functional model can be constructed. A skip connection, as you might have guessed, skips some layer in the network and feeds the output to a later layer in the network. Don't worry, you'll be spending more time with skip connections very soon! "
      ]
    },
    {
      "cell_type": "markdown",
      "metadata": {
        "id": "KJYWyZPrXraU"
      },
      "source": [
        "<img src=\"images/seq_vs_func.png\" style=\"width:350px;height:200px;\">"
      ]
    },
    {
      "cell_type": "markdown",
      "metadata": {
        "id": "EfTCb4tfXraU"
      },
      "source": [
        "<a name='4-1'></a>\n",
        "### 4.1 - Load the SIGNS Dataset\n",
        "\n",
        "As a reminder, the SIGNS dataset is a collection of 6 signs representing numbers from 0 to 5."
      ]
    },
    {
      "cell_type": "code",
      "execution_count": null,
      "metadata": {
        "id": "gxdYNNZZXraU"
      },
      "outputs": [],
      "source": [
        "# Loading the data (signs)\n",
        "X_train_orig, Y_train_orig, X_test_orig, Y_test_orig, classes = load_signs_dataset()"
      ]
    },
    {
      "cell_type": "markdown",
      "metadata": {
        "id": "XyGZFWcPXraU"
      },
      "source": [
        "<img src=\"images/SIGNS.png\" style=\"width:800px;height:300px;\">\n",
        "\n",
        "The next cell will show you an example of a labelled image in the dataset. Feel free to change the value of `index` below and re-run to see different examples. "
      ]
    },
    {
      "cell_type": "code",
      "execution_count": null,
      "metadata": {
        "id": "AUgF-TJbXraU",
        "outputId": "662a346d-2412-4a69-d9af-df38b2c86ce2"
      },
      "outputs": [
        {
          "name": "stdout",
          "output_type": "stream",
          "text": [
            "y = 4\n"
          ]
        },
        {
          "data": {
            "image/png": "[encoded data removed]",
            "text/plain": [
              "<Figure size 432x288 with 1 Axes>"
            ]
          },
          "metadata": {
            "needs_background": "light"
          },
          "output_type": "display_data"
        }
      ],
      "source": [
        "# Example of an image from the dataset\n",
        "index = 9\n",
        "plt.imshow(X_train_orig[index])\n",
        "print (\"y = \" + str(np.squeeze(Y_train_orig[:, index])))"
      ]
    },
    {
      "cell_type": "markdown",
      "metadata": {
        "id": "tX4iP6vtXraU"
      },
      "source": [
        "<a name='4-2'></a>\n",
        "### 4.2 - Split the Data into Train/Test Sets\n",
        "\n",
        "In Course 2, you built a fully-connected network for this dataset. But since this is an image dataset, it is more natural to apply a ConvNet to it.\n",
        "\n",
        "To get started, let's examine the shapes of your data. "
      ]
    },
    {
      "cell_type": "code",
      "execution_count": null,
      "metadata": {
        "id": "nKfc4pJ3XraW",
        "outputId": "c65c47c0-79cc-449f-c55f-ff6997f761b5"
      },
      "outputs": [
        {
          "name": "stdout",
          "output_type": "stream",
          "text": [
            "number of training examples = 1080\n",
            "number of test examples = 120\n",
            "X_train shape: (1080, 64, 64, 3)\n",
            "Y_train shape: (1080, 6)\n",
            "X_test shape: (120, 64, 64, 3)\n",
            "Y_test shape: (120, 6)\n"
          ]
        }
      ],
      "source": [
        "X_train = X_train_orig/255.\n",
        "X_test = X_test_orig/255.\n",
        "Y_train = convert_to_one_hot(Y_train_orig, 6).T\n",
        "Y_test = convert_to_one_hot(Y_test_orig, 6).T\n",
        "print (\"number of training examples = \" + str(X_train.shape[0]))\n",
        "print (\"number of test examples = \" + str(X_test.shape[0]))\n",
        "print (\"X_train shape: \" + str(X_train.shape))\n",
        "print (\"Y_train shape: \" + str(Y_train.shape))\n",
        "print (\"X_test shape: \" + str(X_test.shape))\n",
        "print (\"Y_test shape: \" + str(Y_test.shape))"
      ]
    },
    {
      "cell_type": "markdown",
      "metadata": {
        "id": "Ru6oI7ikXraW"
      },
      "source": [
        "<a name='4-3'></a>\n",
        "### 4.3 - Forward Propagation\n",
        "\n",
        "In TensorFlow, there are built-in functions that implement the convolution steps for you. By now, you should be familiar with how TensorFlow builds computational graphs. In the [Functional API](https://www.tensorflow.org/guide/keras/functional), you create a graph of layers. This is what allows such great flexibility.\n",
        "\n",
        "However, the following model could also be defined using the Sequential API since the information flow is on a single line. But don't deviate. What we want you to learn is to use the functional API.\n",
        "\n",
        "Begin building your graph of layers by creating an input node that functions as a callable object:\n",
        "\n",
        "- **input_img = tf.keras.Input(shape=input_shape):** \n",
        "\n",
        "Then, create a new node in the graph of layers by calling a layer on the `input_img` object: \n",
        "\n",
        "- **tf.keras.layers.Conv2D(filters= ... , kernel_size= ... , padding='same')(input_img):** Read the full documentation on [Conv2D](https://www.tensorflow.org/api_docs/python/tf/keras/layers/Conv2D).\n",
        "\n",
        "- **tf.keras.layers.MaxPool2D(pool_size=(f, f), strides=(s, s), padding='same'):** `MaxPool2D()` downsamples your input using a window of size (f, f) and strides of size (s, s) to carry out max pooling over each window.  For max pooling, you usually operate on a single example at a time and a single channel at a time. Read the full documentation on [MaxPool2D](https://www.tensorflow.org/api_docs/python/tf/keras/layers/MaxPool2D).\n",
        "\n",
        "- **tf.keras.layers.ReLU():** computes the elementwise ReLU of Z (which can be any shape). You can read the full documentation on [ReLU](https://www.tensorflow.org/api_docs/python/tf/keras/layers/ReLU).\n",
        "\n",
        "- **tf.keras.layers.Flatten()**: given a tensor \"P\", this function takes each training (or test) example in the batch and flattens it into a 1D vector.  \n",
        "\n",
        "    * If a tensor P has the shape (batch_size,h,w,c), it returns a flattened tensor with shape (batch_size, k), where $k=h \\times w \\times c$.  \"k\" equals the product of all the dimension sizes other than the first dimension.\n",
        "    \n",
        "    * For example, given a tensor with dimensions [100, 2, 3, 4], it flattens the tensor to be of shape [100, 24], where 24 = 2 * 3 * 4.  You can read the full documentation on [Flatten](https://www.tensorflow.org/api_docs/python/tf/keras/layers/Flatten).\n",
        "\n",
        "- **tf.keras.layers.Dense(units= ... , activation='softmax')(F):** given the flattened input F, it returns the output computed using a fully connected layer. You can read the full documentation on [Dense](https://www.tensorflow.org/api_docs/python/tf/keras/layers/Dense).\n",
        "\n",
        "In the last function above (`tf.keras.layers.Dense()`), the fully connected layer automatically initializes weights in the graph and keeps on training them as you train the model. Hence, you did not need to initialize those weights when initializing the parameters.\n",
        "\n",
        "Lastly, before creating the model, you'll need to define the output using the last of the function's compositions (in this example, a Dense layer): \n",
        "\n",
        "- **outputs = tf.keras.layers.Dense(units=6, activation='softmax')(F)**\n",
        "\n",
        "\n",
        "#### Window, kernel, filter, pool\n",
        "\n",
        "The words \"kernel\" and \"filter\" are used to refer to the same thing. The word \"filter\" accounts for the amount of \"kernels\" that will be used in a single convolution layer. \"Pool\" is the name of the operation that takes the max or average value of the kernels. \n",
        "\n",
        "This is why the parameter `pool_size` refers to `kernel_size`, and you use `(f,f)` to refer to the filter size. \n",
        "\n",
        "Pool size and kernel size refer to the same thing in different objects - They refer to the shape of the window where the operation takes place. "
      ]
    },
    {
      "cell_type": "markdown",
      "metadata": {
        "id": "mHyKOiBBXraW"
      },
      "source": [
        "<a name='ex-2'></a>\n",
        "### Exercise 2 - convolutional_model\n",
        "\n",
        "Implement the `convolutional_model` function below to build the following model: `CONV2D -> RELU -> MAXPOOL -> CONV2D -> RELU -> MAXPOOL -> FLATTEN -> DENSE`. Use the functions above! \n",
        "\n",
        "Also, plug in the following parameters for all the steps:\n",
        "\n",
        " - [Conv2D](https://www.tensorflow.org/api_docs/python/tf/keras/layers/Conv2D): Use 8 4 by 4 filters, stride 1, padding is \"SAME\"\n",
        " - [ReLU](https://www.tensorflow.org/api_docs/python/tf/keras/layers/ReLU)\n",
        " - [MaxPool2D](https://www.tensorflow.org/api_docs/python/tf/keras/layers/MaxPool2D): Use an 8 by 8 filter size and an 8 by 8 stride, padding is \"SAME\"\n",
        " - **Conv2D**: Use 16 2 by 2 filters, stride 1, padding is \"SAME\"\n",
        " - **ReLU**\n",
        " - **MaxPool2D**: Use a 4 by 4 filter size and a 4 by 4 stride, padding is \"SAME\"\n",
        " - [Flatten](https://www.tensorflow.org/api_docs/python/tf/keras/layers/Flatten) the previous output.\n",
        " - Fully-connected ([Dense](https://www.tensorflow.org/api_docs/python/tf/keras/layers/Dense)) layer: Apply a fully connected layer with 6 neurons and a softmax activation. "
      ]
    },
    {
      "cell_type": "code",
      "execution_count": null,
      "metadata": {
        "deletable": false,
        "nbgrader": {
          "cell_type": "code",
          "checksum": "f58643806aa8380c96225fc8b4c5e7aa",
          "grade": false,
          "grade_id": "cell-dac51744a9e03f51",
          "locked": false,
          "schema_version": 3,
          "solution": true,
          "task": false
        },
        "id": "mGPvxPnkXraW"
      },
      "outputs": [],
      "source": [
        "# GRADED FUNCTION: convolutional_model\n",
        "\n",
        "def convolutional_model(input_shape):\n",
        "    \"\"\"\n",
        "    Implements the forward propagation for the model:\n",
        "    CONV2D -> RELU -> MAXPOOL -> CONV2D -> RELU -> MAXPOOL -> FLATTEN -> DENSE\n",
        "    \n",
        "    Note that for simplicity and grading purposes, you'll hard-code some values\n",
        "    such as the stride and kernel (filter) sizes. \n",
        "    Normally, functions should take these values as function parameters.\n",
        "    \n",
        "    Arguments:\n",
        "    input_img -- input dataset, of shape (input_shape)\n",
        "\n",
        "    Returns:\n",
        "    model -- TF Keras model (object containing the information for the entire training process) \n",
        "    \"\"\"\n",
        "\n",
        "    input_img = tf.keras.Input(shape=input_shape)\n",
        "    ## CONV2D: 8 filters 4x4, stride of 1, padding 'SAME'\n",
        "    Z1 = tfl.Conv2D(filters = 8, kernel_size=4, strides=1, padding='SAME')(input_img)\n",
        "    ## RELU\n",
        "    A1 = tfl.ReLU()(Z1)\n",
        "    ## MAXPOOL: window 8x8, stride 8, padding 'SAME'\n",
        "    P1 = tfl.MaxPool2D(pool_size=(8,8), strides=8, padding=\"SAME\")(A1)\n",
        "    ## CONV2D: 16 filters 2x2, stride 1, padding 'SAME'\n",
        "    Z2 = tfl.Conv2D(filters=16, kernel_size=2, strides=1, padding='SAME')(P1)\n",
        "    ## RELU\n",
        "    A2 = tfl.ReLU()(Z2)\n",
        "    ## MAXPOOL: window 4x4, stride 4, padding 'SAME'\n",
        "    P2 = tfl.MaxPool2D(pool_size=(4,4), strides=4, padding='SAME')(A2)\n",
        "    ## FLATTEN\n",
        "    F = tfl.Flatten()(P2)\n",
        "    ## Dense layer\n",
        "    ## 6 neurons in output layer. Hint: one of the arguments should be \"activation='softmax'\" \n",
        "    outputs = tfl.Dense(6, activation='softmax')(F)\n",
        "    model = tf.keras.Model(inputs=input_img, outputs=outputs)\n",
        "    return model"
      ]
    },
    {
      "cell_type": "code",
      "execution_count": null,
      "metadata": {
        "deletable": false,
        "editable": false,
        "nbgrader": {
          "cell_type": "code",
          "checksum": "483d626949930a0b0ef20997e7c6ba72",
          "grade": true,
          "grade_id": "cell-45d22e92042174c9",
          "locked": true,
          "points": 10,
          "schema_version": 3,
          "solution": false,
          "task": false
        },
        "id": "jrCSZ1nNXraW",
        "outputId": "b60f5970-ee40-4fa5-d341-235ae525c7e2"
      },
      "outputs": [
        {
          "name": "stdout",
          "output_type": "stream",
          "text": [
            "Model: \"functional_2\"\n",
            "_________________________________________________________________\n",
            "Layer (type)                 Output Shape              Param #   \n",
            "=================================================================\n",
            "input_7 (InputLayer)         [(None, 64, 64, 3)]       0         \n",
            "_________________________________________________________________\n",
            "conv2d_8 (Conv2D)            (None, 64, 64, 8)         392       \n",
            "_________________________________________________________________\n",
            "re_lu_7 (ReLU)               (None, 64, 64, 8)         0         \n",
            "_________________________________________________________________\n",
            "max_pooling2d_4 (MaxPooling2 (None, 8, 8, 8)           0         \n",
            "_________________________________________________________________\n",
            "conv2d_9 (Conv2D)            (None, 8, 8, 16)          528       \n",
            "_________________________________________________________________\n",
            "re_lu_8 (ReLU)               (None, 8, 8, 16)          0         \n",
            "_________________________________________________________________\n",
            "max_pooling2d_5 (MaxPooling2 (None, 2, 2, 16)          0         \n",
            "_________________________________________________________________\n",
            "flatten_2 (Flatten)          (None, 64)                0         \n",
            "_________________________________________________________________\n",
            "dense_2 (Dense)              (None, 6)                 390       \n",
            "=================================================================\n",
            "Total params: 1,310\n",
            "Trainable params: 1,310\n",
            "Non-trainable params: 0\n",
            "_________________________________________________________________\n",
            "\u001b[32mAll tests passed!\u001b[0m\n"
          ]
        }
      ],
      "source": [
        "conv_model = convolutional_model((64, 64, 3))\n",
        "conv_model.compile(optimizer='adam',\n",
        "                  loss='categorical_crossentropy',\n",
        "                  metrics=['accuracy'])\n",
        "conv_model.summary()\n",
        "    \n",
        "output = [['InputLayer', [(None, 64, 64, 3)], 0],\n",
        "        ['Conv2D', (None, 64, 64, 8), 392, 'same', 'linear', 'GlorotUniform'],\n",
        "        ['ReLU', (None, 64, 64, 8), 0],\n",
        "        ['MaxPooling2D', (None, 8, 8, 8), 0, (8, 8), (8, 8), 'same'],\n",
        "        ['Conv2D', (None, 8, 8, 16), 528, 'same', 'linear', 'GlorotUniform'],\n",
        "        ['ReLU', (None, 8, 8, 16), 0],\n",
        "        ['MaxPooling2D', (None, 2, 2, 16), 0, (4, 4), (4, 4), 'same'],\n",
        "        ['Flatten', (None, 64), 0],\n",
        "        ['Dense', (None, 6), 390, 'softmax']]\n",
        "    \n",
        "comparator(summary(conv_model), output)"
      ]
    },
    {
      "cell_type": "markdown",
      "metadata": {
        "id": "M4c8nsUTXraX"
      },
      "source": [
        "Both the Sequential and Functional APIs return a TF Keras model object. The only difference is how inputs are handled inside the object model! "
      ]
    },
    {
      "cell_type": "markdown",
      "metadata": {
        "id": "MUlJCymbXraX"
      },
      "source": [
        "<a name='4-4'></a>\n",
        "### 4.4 - Train the Model"
      ]
    },
    {
      "cell_type": "code",
      "execution_count": null,
      "metadata": {
        "id": "par1rezJXraX",
        "outputId": "e2bed08a-586d-43bb-b595-0287d196ff0a"
      },
      "outputs": [
        {
          "name": "stdout",
          "output_type": "stream",
          "text": [
            "Epoch 1/100\n",
            "17/17 [==============================] - 2s 107ms/step - loss: 1.9337 - accuracy: 0.1778 - val_loss: 1.8180 - val_accuracy: 0.1417\n",
            "Epoch 2/100\n",
            "17/17 [==============================] - 2s 106ms/step - loss: 1.8038 - accuracy: 0.1870 - val_loss: 1.7882 - val_accuracy: 0.1500\n",
            "Epoch 3/100\n",
            "17/17 [==============================] - 2s 106ms/step - loss: 1.7849 - accuracy: 0.2000 - val_loss: 1.7822 - val_accuracy: 0.2167\n",
            "Epoch 4/100\n",
            "17/17 [==============================] - 2s 106ms/step - loss: 1.7794 - accuracy: 0.2500 - val_loss: 1.7789 - val_accuracy: 0.2333\n",
            "Epoch 5/100\n",
            "17/17 [==============================] - 2s 106ms/step - loss: 1.7755 - accuracy: 0.2778 - val_loss: 1.7747 - val_accuracy: 0.2500\n",
            "Epoch 6/100\n",
            "17/17 [==============================] - 2s 106ms/step - loss: 1.7704 - accuracy: 0.3185 - val_loss: 1.7698 - val_accuracy: 0.3250\n",
            "Epoch 7/100\n",
            "17/17 [==============================] - 2s 112ms/step - loss: 1.7645 - accuracy: 0.3639 - val_loss: 1.7640 - val_accuracy: 0.3833\n",
            "Epoch 8/100\n",
            "17/17 [==============================] - 2s 106ms/step - loss: 1.7564 - accuracy: 0.4213 - val_loss: 1.7566 - val_accuracy: 0.3917\n",
            "Epoch 9/100\n",
            "17/17 [==============================] - 2s 106ms/step - loss: 1.7442 - accuracy: 0.4611 - val_loss: 1.7460 - val_accuracy: 0.4333\n",
            "Epoch 10/100\n",
            "17/17 [==============================] - 2s 106ms/step - loss: 1.7269 - accuracy: 0.4796 - val_loss: 1.7316 - val_accuracy: 0.4250\n",
            "Epoch 11/100\n",
            "17/17 [==============================] - 2s 106ms/step - loss: 1.7014 - accuracy: 0.4713 - val_loss: 1.7132 - val_accuracy: 0.4083\n",
            "Epoch 12/100\n",
            "17/17 [==============================] - 2s 111ms/step - loss: 1.6701 - accuracy: 0.4685 - val_loss: 1.6891 - val_accuracy: 0.3667\n",
            "Epoch 13/100\n",
            "17/17 [==============================] - 2s 111ms/step - loss: 1.6325 - accuracy: 0.4676 - val_loss: 1.6608 - val_accuracy: 0.3750\n",
            "Epoch 14/100\n",
            "17/17 [==============================] - 2s 106ms/step - loss: 1.5896 - accuracy: 0.4759 - val_loss: 1.6311 - val_accuracy: 0.3667\n",
            "Epoch 15/100\n",
            "17/17 [==============================] - 2s 106ms/step - loss: 1.5474 - accuracy: 0.4824 - val_loss: 1.6005 - val_accuracy: 0.3583\n",
            "Epoch 16/100\n",
            "17/17 [==============================] - 2s 111ms/step - loss: 1.5032 - accuracy: 0.4741 - val_loss: 1.5674 - val_accuracy: 0.3917\n",
            "Epoch 17/100\n",
            "17/17 [==============================] - 2s 106ms/step - loss: 1.4608 - accuracy: 0.4750 - val_loss: 1.5322 - val_accuracy: 0.3917\n",
            "Epoch 18/100\n",
            "17/17 [==============================] - 2s 101ms/step - loss: 1.4225 - accuracy: 0.5019 - val_loss: 1.4998 - val_accuracy: 0.3917\n",
            "Epoch 19/100\n",
            "17/17 [==============================] - 2s 106ms/step - loss: 1.3847 - accuracy: 0.5102 - val_loss: 1.4645 - val_accuracy: 0.4250\n",
            "Epoch 20/100\n",
            "17/17 [==============================] - 2s 106ms/step - loss: 1.3443 - accuracy: 0.5204 - val_loss: 1.4254 - val_accuracy: 0.4500\n",
            "Epoch 21/100\n",
            "17/17 [==============================] - 2s 111ms/step - loss: 1.3058 - accuracy: 0.5185 - val_loss: 1.3898 - val_accuracy: 0.4333\n",
            "Epoch 22/100\n",
            "17/17 [==============================] - 2s 111ms/step - loss: 1.2696 - accuracy: 0.5296 - val_loss: 1.3472 - val_accuracy: 0.4583\n",
            "Epoch 23/100\n",
            "17/17 [==============================] - 2s 106ms/step - loss: 1.2354 - accuracy: 0.5528 - val_loss: 1.3119 - val_accuracy: 0.5000\n",
            "Epoch 24/100\n",
            "17/17 [==============================] - 2s 106ms/step - loss: 1.2013 - accuracy: 0.5620 - val_loss: 1.2763 - val_accuracy: 0.5167\n",
            "Epoch 25/100\n",
            "17/17 [==============================] - 2s 106ms/step - loss: 1.1691 - accuracy: 0.5704 - val_loss: 1.2420 - val_accuracy: 0.5250\n",
            "Epoch 26/100\n",
            "17/17 [==============================] - 2s 112ms/step - loss: 1.1389 - accuracy: 0.5870 - val_loss: 1.2083 - val_accuracy: 0.5167\n",
            "Epoch 27/100\n",
            "17/17 [==============================] - 2s 106ms/step - loss: 1.1094 - accuracy: 0.5981 - val_loss: 1.1763 - val_accuracy: 0.5583\n",
            "Epoch 28/100\n",
            "17/17 [==============================] - 2s 106ms/step - loss: 1.0817 - accuracy: 0.6204 - val_loss: 1.1446 - val_accuracy: 0.5667\n",
            "Epoch 29/100\n",
            "17/17 [==============================] - 2s 106ms/step - loss: 1.0557 - accuracy: 0.6324 - val_loss: 1.1160 - val_accuracy: 0.6000\n",
            "Epoch 30/100\n",
            "17/17 [==============================] - 2s 106ms/step - loss: 1.0298 - accuracy: 0.6481 - val_loss: 1.0887 - val_accuracy: 0.6083\n",
            "Epoch 31/100\n",
            "17/17 [==============================] - 2s 106ms/step - loss: 1.0074 - accuracy: 0.6620 - val_loss: 1.0655 - val_accuracy: 0.6250\n",
            "Epoch 32/100\n",
            "17/17 [==============================] - 2s 101ms/step - loss: 0.9850 - accuracy: 0.6667 - val_loss: 1.0416 - val_accuracy: 0.6417\n",
            "Epoch 33/100\n",
            "17/17 [==============================] - 2s 106ms/step - loss: 0.9635 - accuracy: 0.6759 - val_loss: 1.0189 - val_accuracy: 0.6500\n",
            "Epoch 34/100\n",
            "17/17 [==============================] - 2s 106ms/step - loss: 0.9430 - accuracy: 0.6870 - val_loss: 0.9976 - val_accuracy: 0.6500\n",
            "Epoch 35/100\n",
            "17/17 [==============================] - 2s 106ms/step - loss: 0.9232 - accuracy: 0.6935 - val_loss: 0.9765 - val_accuracy: 0.6500\n",
            "Epoch 36/100\n",
            "17/17 [==============================] - 2s 106ms/step - loss: 0.9043 - accuracy: 0.7037 - val_loss: 0.9577 - val_accuracy: 0.6500\n",
            "Epoch 37/100\n",
            "17/17 [==============================] - 2s 106ms/step - loss: 0.8861 - accuracy: 0.7065 - val_loss: 0.9394 - val_accuracy: 0.6583\n",
            "Epoch 38/100\n",
            "17/17 [==============================] - 2s 106ms/step - loss: 0.8683 - accuracy: 0.7111 - val_loss: 0.9211 - val_accuracy: 0.6583\n",
            "Epoch 39/100\n",
            "17/17 [==============================] - 2s 106ms/step - loss: 0.8514 - accuracy: 0.7250 - val_loss: 0.9027 - val_accuracy: 0.6667\n",
            "Epoch 40/100\n",
            "17/17 [==============================] - 2s 106ms/step - loss: 0.8361 - accuracy: 0.7324 - val_loss: 0.8884 - val_accuracy: 0.6667\n",
            "Epoch 41/100\n",
            "17/17 [==============================] - 2s 106ms/step - loss: 0.8201 - accuracy: 0.7306 - val_loss: 0.8706 - val_accuracy: 0.6833\n",
            "Epoch 42/100\n",
            "17/17 [==============================] - 2s 106ms/step - loss: 0.8052 - accuracy: 0.7352 - val_loss: 0.8558 - val_accuracy: 0.6833\n",
            "Epoch 43/100\n",
            "17/17 [==============================] - 2s 106ms/step - loss: 0.7918 - accuracy: 0.7435 - val_loss: 0.8412 - val_accuracy: 0.6833\n",
            "Epoch 44/100\n",
            "17/17 [==============================] - 2s 106ms/step - loss: 0.7773 - accuracy: 0.7500 - val_loss: 0.8272 - val_accuracy: 0.7083\n",
            "Epoch 45/100\n",
            "17/17 [==============================] - 2s 106ms/step - loss: 0.7642 - accuracy: 0.7528 - val_loss: 0.8141 - val_accuracy: 0.7083\n",
            "Epoch 46/100\n",
            "17/17 [==============================] - 2s 106ms/step - loss: 0.7526 - accuracy: 0.7556 - val_loss: 0.8021 - val_accuracy: 0.7083\n",
            "Epoch 47/100\n",
            "17/17 [==============================] - 2s 106ms/step - loss: 0.7410 - accuracy: 0.7602 - val_loss: 0.7912 - val_accuracy: 0.7083\n",
            "Epoch 48/100\n",
            "17/17 [==============================] - 2s 106ms/step - loss: 0.7299 - accuracy: 0.7667 - val_loss: 0.7815 - val_accuracy: 0.7083\n",
            "Epoch 49/100\n",
            "17/17 [==============================] - 2s 106ms/step - loss: 0.7191 - accuracy: 0.7731 - val_loss: 0.7703 - val_accuracy: 0.7083\n",
            "Epoch 50/100\n",
            "17/17 [==============================] - 2s 106ms/step - loss: 0.7083 - accuracy: 0.7750 - val_loss: 0.7623 - val_accuracy: 0.7167\n",
            "Epoch 51/100\n",
            "17/17 [==============================] - 2s 106ms/step - loss: 0.6987 - accuracy: 0.7787 - val_loss: 0.7522 - val_accuracy: 0.7167\n",
            "Epoch 52/100\n",
            "17/17 [==============================] - 2s 106ms/step - loss: 0.6889 - accuracy: 0.7796 - val_loss: 0.7441 - val_accuracy: 0.7167\n",
            "Epoch 53/100\n",
            "17/17 [==============================] - 2s 106ms/step - loss: 0.6801 - accuracy: 0.7833 - val_loss: 0.7343 - val_accuracy: 0.7167\n",
            "Epoch 54/100\n",
            "17/17 [==============================] - 2s 111ms/step - loss: 0.6713 - accuracy: 0.7843 - val_loss: 0.7283 - val_accuracy: 0.7167\n",
            "Epoch 55/100\n",
            "17/17 [==============================] - 2s 111ms/step - loss: 0.6624 - accuracy: 0.7870 - val_loss: 0.7192 - val_accuracy: 0.7250\n",
            "Epoch 56/100\n",
            "17/17 [==============================] - 2s 106ms/step - loss: 0.6541 - accuracy: 0.7880 - val_loss: 0.7123 - val_accuracy: 0.7250\n",
            "Epoch 57/100\n",
            "17/17 [==============================] - 2s 106ms/step - loss: 0.6460 - accuracy: 0.7926 - val_loss: 0.7050 - val_accuracy: 0.7250\n",
            "Epoch 58/100\n",
            "17/17 [==============================] - 2s 106ms/step - loss: 0.6374 - accuracy: 0.7926 - val_loss: 0.6988 - val_accuracy: 0.7250\n",
            "Epoch 59/100\n",
            "17/17 [==============================] - 2s 106ms/step - loss: 0.6291 - accuracy: 0.7963 - val_loss: 0.6920 - val_accuracy: 0.7250\n",
            "Epoch 60/100\n",
            "17/17 [==============================] - 2s 106ms/step - loss: 0.6218 - accuracy: 0.7972 - val_loss: 0.6854 - val_accuracy: 0.7250\n",
            "Epoch 61/100\n",
            "17/17 [==============================] - 2s 111ms/step - loss: 0.6142 - accuracy: 0.7981 - val_loss: 0.6784 - val_accuracy: 0.7250\n",
            "Epoch 62/100\n",
            "17/17 [==============================] - 2s 111ms/step - loss: 0.6070 - accuracy: 0.7981 - val_loss: 0.6731 - val_accuracy: 0.7250\n",
            "Epoch 63/100\n",
            "17/17 [==============================] - 2s 106ms/step - loss: 0.5997 - accuracy: 0.8046 - val_loss: 0.6660 - val_accuracy: 0.7250\n",
            "Epoch 64/100\n",
            "17/17 [==============================] - 2s 106ms/step - loss: 0.5931 - accuracy: 0.8056 - val_loss: 0.6599 - val_accuracy: 0.7250\n",
            "Epoch 65/100\n",
            "17/17 [==============================] - 2s 106ms/step - loss: 0.5863 - accuracy: 0.8111 - val_loss: 0.6559 - val_accuracy: 0.7250\n",
            "Epoch 66/100\n",
            "17/17 [==============================] - 2s 106ms/step - loss: 0.5797 - accuracy: 0.8111 - val_loss: 0.6491 - val_accuracy: 0.7250\n",
            "Epoch 67/100\n",
            "17/17 [==============================] - 2s 106ms/step - loss: 0.5733 - accuracy: 0.8111 - val_loss: 0.6434 - val_accuracy: 0.7333\n",
            "Epoch 68/100\n",
            "17/17 [==============================] - 2s 111ms/step - loss: 0.5674 - accuracy: 0.8176 - val_loss: 0.6395 - val_accuracy: 0.7333\n",
            "Epoch 69/100\n",
            "17/17 [==============================] - 2s 112ms/step - loss: 0.5612 - accuracy: 0.8194 - val_loss: 0.6345 - val_accuracy: 0.7333\n",
            "Epoch 70/100\n",
            "17/17 [==============================] - 2s 106ms/step - loss: 0.5548 - accuracy: 0.8194 - val_loss: 0.6298 - val_accuracy: 0.7417\n",
            "Epoch 71/100\n",
            "17/17 [==============================] - 2s 106ms/step - loss: 0.5491 - accuracy: 0.8231 - val_loss: 0.6250 - val_accuracy: 0.7333\n",
            "Epoch 72/100\n",
            "17/17 [==============================] - 2s 106ms/step - loss: 0.5427 - accuracy: 0.8250 - val_loss: 0.6207 - val_accuracy: 0.7333\n",
            "Epoch 73/100\n",
            "17/17 [==============================] - 2s 111ms/step - loss: 0.5374 - accuracy: 0.8287 - val_loss: 0.6165 - val_accuracy: 0.7333\n",
            "Epoch 74/100\n",
            "17/17 [==============================] - 2s 107ms/step - loss: 0.5315 - accuracy: 0.8315 - val_loss: 0.6116 - val_accuracy: 0.7250\n",
            "Epoch 75/100\n",
            "17/17 [==============================] - 2s 106ms/step - loss: 0.5264 - accuracy: 0.8333 - val_loss: 0.6085 - val_accuracy: 0.7250\n",
            "Epoch 76/100\n",
            "17/17 [==============================] - 2s 111ms/step - loss: 0.5204 - accuracy: 0.8370 - val_loss: 0.6040 - val_accuracy: 0.7250\n",
            "Epoch 77/100\n",
            "17/17 [==============================] - 2s 106ms/step - loss: 0.5151 - accuracy: 0.8380 - val_loss: 0.5996 - val_accuracy: 0.7333\n",
            "Epoch 78/100\n",
            "17/17 [==============================] - 2s 111ms/step - loss: 0.5097 - accuracy: 0.8389 - val_loss: 0.5963 - val_accuracy: 0.7333\n",
            "Epoch 79/100\n",
            "17/17 [==============================] - 2s 106ms/step - loss: 0.5047 - accuracy: 0.8380 - val_loss: 0.5925 - val_accuracy: 0.7417\n",
            "Epoch 80/100\n",
            "17/17 [==============================] - 2s 106ms/step - loss: 0.4989 - accuracy: 0.8389 - val_loss: 0.5878 - val_accuracy: 0.7417\n",
            "Epoch 81/100\n",
            "17/17 [==============================] - 2s 106ms/step - loss: 0.4935 - accuracy: 0.8417 - val_loss: 0.5837 - val_accuracy: 0.7583\n",
            "Epoch 82/100\n",
            "17/17 [==============================] - 2s 106ms/step - loss: 0.4886 - accuracy: 0.8426 - val_loss: 0.5795 - val_accuracy: 0.7583\n",
            "Epoch 83/100\n",
            "17/17 [==============================] - 2s 106ms/step - loss: 0.4837 - accuracy: 0.8454 - val_loss: 0.5770 - val_accuracy: 0.7583\n",
            "Epoch 84/100\n",
            "17/17 [==============================] - 2s 111ms/step - loss: 0.4790 - accuracy: 0.8454 - val_loss: 0.5719 - val_accuracy: 0.7667\n",
            "Epoch 85/100\n",
            "17/17 [==============================] - 2s 106ms/step - loss: 0.4744 - accuracy: 0.8472 - val_loss: 0.5698 - val_accuracy: 0.7667\n",
            "Epoch 86/100\n",
            "17/17 [==============================] - 2s 106ms/step - loss: 0.4697 - accuracy: 0.8491 - val_loss: 0.5663 - val_accuracy: 0.7667\n",
            "Epoch 87/100\n",
            "17/17 [==============================] - 2s 106ms/step - loss: 0.4651 - accuracy: 0.8500 - val_loss: 0.5627 - val_accuracy: 0.7750\n",
            "Epoch 88/100\n",
            "17/17 [==============================] - 2s 106ms/step - loss: 0.4602 - accuracy: 0.8546 - val_loss: 0.5594 - val_accuracy: 0.7750\n",
            "Epoch 89/100\n",
            "17/17 [==============================] - 2s 106ms/step - loss: 0.4560 - accuracy: 0.8574 - val_loss: 0.5570 - val_accuracy: 0.7750\n",
            "Epoch 90/100\n",
            "17/17 [==============================] - 2s 107ms/step - loss: 0.4515 - accuracy: 0.8574 - val_loss: 0.5533 - val_accuracy: 0.7750\n",
            "Epoch 91/100\n",
            "17/17 [==============================] - 2s 106ms/step - loss: 0.4472 - accuracy: 0.8602 - val_loss: 0.5508 - val_accuracy: 0.7750\n",
            "Epoch 92/100\n",
            "17/17 [==============================] - 2s 102ms/step - loss: 0.4430 - accuracy: 0.8602 - val_loss: 0.5477 - val_accuracy: 0.7750\n",
            "Epoch 93/100\n",
            "17/17 [==============================] - 2s 106ms/step - loss: 0.4387 - accuracy: 0.8611 - val_loss: 0.5444 - val_accuracy: 0.7750\n",
            "Epoch 94/100\n",
            "17/17 [==============================] - 2s 107ms/step - loss: 0.4347 - accuracy: 0.8620 - val_loss: 0.5414 - val_accuracy: 0.7750\n",
            "Epoch 95/100\n",
            "17/17 [==============================] - 2s 106ms/step - loss: 0.4308 - accuracy: 0.8620 - val_loss: 0.5390 - val_accuracy: 0.7833\n",
            "Epoch 96/100\n",
            "17/17 [==============================] - 2s 106ms/step - loss: 0.4271 - accuracy: 0.8639 - val_loss: 0.5352 - val_accuracy: 0.7833\n",
            "Epoch 97/100\n",
            "17/17 [==============================] - 2s 107ms/step - loss: 0.4231 - accuracy: 0.8648 - val_loss: 0.5330 - val_accuracy: 0.7833\n",
            "Epoch 98/100\n",
            "17/17 [==============================] - 2s 106ms/step - loss: 0.4191 - accuracy: 0.8657 - val_loss: 0.5291 - val_accuracy: 0.7833\n",
            "Epoch 99/100\n",
            "17/17 [==============================] - 2s 105ms/step - loss: 0.4154 - accuracy: 0.8648 - val_loss: 0.5268 - val_accuracy: 0.7833\n",
            "Epoch 100/100\n",
            "17/17 [==============================] - 2s 111ms/step - loss: 0.4120 - accuracy: 0.8657 - val_loss: 0.5237 - val_accuracy: 0.7833\n"
          ]
        }
      ],
      "source": [
        "train_dataset = tf.data.Dataset.from_tensor_slices((X_train, Y_train)).batch(64)\n",
        "test_dataset = tf.data.Dataset.from_tensor_slices((X_test, Y_test)).batch(64)\n",
        "history = conv_model.fit(train_dataset, epochs=100, validation_data=test_dataset)"
      ]
    },
    {
      "cell_type": "markdown",
      "metadata": {
        "id": "HUEkPadxXraX"
      },
      "source": [
        "<a name='5'></a>\n",
        "## 5 - History Object \n",
        "\n",
        "The history object is an output of the `.fit()` operation, and provides a record of all the loss and metric values in memory. It's stored as a dictionary that you can retrieve at `history.history`: "
      ]
    },
    {
      "cell_type": "code",
      "execution_count": null,
      "metadata": {
        "id": "3gFULcXzXraX",
        "outputId": "f6afbe2b-514c-40eb-f562-02f54eb94d89"
      },
      "outputs": [
        {
          "data": {
            "text/plain": [
              "{'loss': [1.9337165355682373,\n",
              "  1.8038392066955566,\n",
              "  1.7848825454711914,\n",
              "  1.7794380187988281,\n",
              "  1.7754679918289185,\n",
              "  1.7703922986984253,\n",
              "  1.7644975185394287,\n",
              "  1.7563941478729248,\n",
              "  1.7441961765289307,\n",
              "  1.7268513441085815,\n",
              "  1.7013520002365112,\n",
              "  1.6700682640075684,\n",
              "  1.632480263710022,\n",
              "  1.5895538330078125,\n",
              "  1.5474272966384888,\n",
              "  1.503206729888916,\n",
              "  1.4607722759246826,\n",
              "  1.422452688217163,\n",
              "  1.384673833847046,\n",
              "  1.3443100452423096,\n",
              "  1.3058439493179321,\n",
              "  1.2695506811141968,\n",
              "  1.2353547811508179,\n",
              "  1.2012704610824585,\n",
              "  1.169054388999939,\n",
              "  1.138870120048523,\n",
              "  1.1094294786453247,\n",
              "  1.081710696220398,\n",
              "  1.055672526359558,\n",
              "  1.0297956466674805,\n",
              "  1.007379412651062,\n",
              "  0.9850165247917175,\n",
              "  0.9634824395179749,\n",
              "  0.9430173635482788,\n",
              "  0.9231917262077332,\n",
              "  0.9043410420417786,\n",
              "  0.8860597610473633,\n",
              "  0.8683085441589355,\n",
              "  0.8513567447662354,\n",
              "  0.836095929145813,\n",
              "  0.8201363682746887,\n",
              "  0.8051861524581909,\n",
              "  0.7917775511741638,\n",
              "  0.777263343334198,\n",
              "  0.7642492651939392,\n",
              "  0.7526366114616394,\n",
              "  0.7409642338752747,\n",
              "  0.7298520803451538,\n",
              "  0.7190557718276978,\n",
              "  0.7083260416984558,\n",
              "  0.6987005472183228,\n",
              "  0.688868522644043,\n",
              "  0.6801283955574036,\n",
              "  0.6713215708732605,\n",
              "  0.6624119877815247,\n",
              "  0.6540899276733398,\n",
              "  0.6459810733795166,\n",
              "  0.6374104022979736,\n",
              "  0.6291313767433167,\n",
              "  0.6217737197875977,\n",
              "  0.6142098903656006,\n",
              "  0.6069758534431458,\n",
              "  0.5997396111488342,\n",
              "  0.5930920243263245,\n",
              "  0.586348295211792,\n",
              "  0.5797494053840637,\n",
              "  0.5733333826065063,\n",
              "  0.567389726638794,\n",
              "  0.5611667633056641,\n",
              "  0.554833173751831,\n",
              "  0.5491398572921753,\n",
              "  0.5426861047744751,\n",
              "  0.537444531917572,\n",
              "  0.5314966440200806,\n",
              "  0.5264238715171814,\n",
              "  0.5204381942749023,\n",
              "  0.5150789022445679,\n",
              "  0.5096710324287415,\n",
              "  0.5047346949577332,\n",
              "  0.49889639019966125,\n",
              "  0.49353259801864624,\n",
              "  0.4885641038417816,\n",
              "  0.4837145209312439,\n",
              "  0.47896286845207214,\n",
              "  0.47439518570899963,\n",
              "  0.46965593099594116,\n",
              "  0.46508362889289856,\n",
              "  0.4602257013320923,\n",
              "  0.4560251235961914,\n",
              "  0.4514518976211548,\n",
              "  0.4472135603427887,\n",
              "  0.4429677426815033,\n",
              "  0.4387214779853821,\n",
              "  0.4346679747104645,\n",
              "  0.4308202862739563,\n",
              "  0.42709311842918396,\n",
              "  0.42307302355766296,\n",
              "  0.4191141426563263,\n",
              "  0.41538989543914795,\n",
              "  0.41202259063720703],\n",
              " 'accuracy': [0.17777778208255768,\n",
              "  0.18703703582286835,\n",
              "  0.20000000298023224,\n",
              "  0.25,\n",
              "  0.2777777910232544,\n",
              "  0.3185185194015503,\n",
              "  0.3638888895511627,\n",
              "  0.42129629850387573,\n",
              "  0.4611110985279083,\n",
              "  0.47962963581085205,\n",
              "  0.4712963104248047,\n",
              "  0.46851852536201477,\n",
              "  0.46759259700775146,\n",
              "  0.47592592239379883,\n",
              "  0.48240742087364197,\n",
              "  0.4740740656852722,\n",
              "  0.4749999940395355,\n",
              "  0.5018518567085266,\n",
              "  0.510185182094574,\n",
              "  0.520370364189148,\n",
              "  0.5185185074806213,\n",
              "  0.529629647731781,\n",
              "  0.5527777671813965,\n",
              "  0.5620370507240295,\n",
              "  0.5703703761100769,\n",
              "  0.5870370268821716,\n",
              "  0.5981481671333313,\n",
              "  0.6203703880310059,\n",
              "  0.6324074268341064,\n",
              "  0.6481481194496155,\n",
              "  0.6620370149612427,\n",
              "  0.6666666865348816,\n",
              "  0.6759259104728699,\n",
              "  0.6870370507240295,\n",
              "  0.6935185194015503,\n",
              "  0.7037037014961243,\n",
              "  0.7064814567565918,\n",
              "  0.7111111283302307,\n",
              "  0.7250000238418579,\n",
              "  0.7324073910713196,\n",
              "  0.730555534362793,\n",
              "  0.7351852059364319,\n",
              "  0.7435185313224792,\n",
              "  0.75,\n",
              "  0.7527777552604675,\n",
              "  0.7555555701255798,\n",
              "  0.760185182094574,\n",
              "  0.7666666507720947,\n",
              "  0.7731481194496155,\n",
              "  0.7749999761581421,\n",
              "  0.7787036895751953,\n",
              "  0.779629647731781,\n",
              "  0.7833333611488342,\n",
              "  0.7842592597007751,\n",
              "  0.7870370149612427,\n",
              "  0.7879629731178284,\n",
              "  0.7925925850868225,\n",
              "  0.7925925850868225,\n",
              "  0.7962962985038757,\n",
              "  0.7972221970558167,\n",
              "  0.7981481552124023,\n",
              "  0.7981481552124023,\n",
              "  0.8046296238899231,\n",
              "  0.8055555820465088,\n",
              "  0.8111110925674438,\n",
              "  0.8111110925674438,\n",
              "  0.8111110925674438,\n",
              "  0.8175926208496094,\n",
              "  0.8194444179534912,\n",
              "  0.8194444179534912,\n",
              "  0.8231481313705444,\n",
              "  0.824999988079071,\n",
              "  0.8287037014961243,\n",
              "  0.8314814567565918,\n",
              "  0.8333333134651184,\n",
              "  0.8370370268821716,\n",
              "  0.8379629850387573,\n",
              "  0.8388888835906982,\n",
              "  0.8379629850387573,\n",
              "  0.8388888835906982,\n",
              "  0.8416666388511658,\n",
              "  0.8425925970077515,\n",
              "  0.845370352268219,\n",
              "  0.845370352268219,\n",
              "  0.8472222089767456,\n",
              "  0.8490740656852722,\n",
              "  0.8500000238418579,\n",
              "  0.854629635810852,\n",
              "  0.8574073910713196,\n",
              "  0.8574073910713196,\n",
              "  0.8601852059364319,\n",
              "  0.8601852059364319,\n",
              "  0.8611111044883728,\n",
              "  0.8620370626449585,\n",
              "  0.8620370626449585,\n",
              "  0.8638888597488403,\n",
              "  0.864814817905426,\n",
              "  0.8657407164573669,\n",
              "  0.864814817905426,\n",
              "  0.8657407164573669],\n",
              " 'val_loss': [1.8180270195007324,\n",
              "  1.7882286310195923,\n",
              "  1.7821530103683472,\n",
              "  1.7789099216461182,\n",
              "  1.7747050523757935,\n",
              "  1.769763469696045,\n",
              "  1.7639950513839722,\n",
              "  1.7566359043121338,\n",
              "  1.7460055351257324,\n",
              "  1.731587529182434,\n",
              "  1.7131767272949219,\n",
              "  1.6890538930892944,\n",
              "  1.6608303785324097,\n",
              "  1.6310709714889526,\n",
              "  1.600533366203308,\n",
              "  1.5674258470535278,\n",
              "  1.5321767330169678,\n",
              "  1.4998077154159546,\n",
              "  1.4645003080368042,\n",
              "  1.425382375717163,\n",
              "  1.3897842168807983,\n",
              "  1.3472262620925903,\n",
              "  1.3119494915008545,\n",
              "  1.2762748003005981,\n",
              "  1.2420326471328735,\n",
              "  1.2083479166030884,\n",
              "  1.1762709617614746,\n",
              "  1.1445540189743042,\n",
              "  1.115978717803955,\n",
              "  1.0886921882629395,\n",
              "  1.0655405521392822,\n",
              "  1.0415996313095093,\n",
              "  1.0188705921173096,\n",
              "  0.997649610042572,\n",
              "  0.976507842540741,\n",
              "  0.9577142000198364,\n",
              "  0.9394441246986389,\n",
              "  0.9210581183433533,\n",
              "  0.9026705026626587,\n",
              "  0.8884040713310242,\n",
              "  0.870635449886322,\n",
              "  0.8557804226875305,\n",
              "  0.8411677479743958,\n",
              "  0.827218770980835,\n",
              "  0.8140737414360046,\n",
              "  0.8020922541618347,\n",
              "  0.7911682724952698,\n",
              "  0.781494140625,\n",
              "  0.7702775597572327,\n",
              "  0.762295663356781,\n",
              "  0.7522105574607849,\n",
              "  0.7441041469573975,\n",
              "  0.7343030571937561,\n",
              "  0.7283204197883606,\n",
              "  0.7191808819770813,\n",
              "  0.7123292684555054,\n",
              "  0.7050321698188782,\n",
              "  0.6987534761428833,\n",
              "  0.6919577717781067,\n",
              "  0.6854398846626282,\n",
              "  0.6783872246742249,\n",
              "  0.6731197237968445,\n",
              "  0.6659688353538513,\n",
              "  0.6599286198616028,\n",
              "  0.6559223532676697,\n",
              "  0.6490591764450073,\n",
              "  0.6434429287910461,\n",
              "  0.6394879221916199,\n",
              "  0.634475827217102,\n",
              "  0.6298241019248962,\n",
              "  0.6250457763671875,\n",
              "  0.6206884980201721,\n",
              "  0.6165183782577515,\n",
              "  0.6115721464157104,\n",
              "  0.608508825302124,\n",
              "  0.6040433049201965,\n",
              "  0.5996084809303284,\n",
              "  0.5963292717933655,\n",
              "  0.5925184488296509,\n",
              "  0.5878190398216248,\n",
              "  0.5837035775184631,\n",
              "  0.5795355439186096,\n",
              "  0.5770112872123718,\n",
              "  0.5719037652015686,\n",
              "  0.5698303580284119,\n",
              "  0.5663499236106873,\n",
              "  0.5627087354660034,\n",
              "  0.5594078302383423,\n",
              "  0.55699223279953,\n",
              "  0.5532941222190857,\n",
              "  0.5507562160491943,\n",
              "  0.5477402210235596,\n",
              "  0.5444251298904419,\n",
              "  0.5413767695426941,\n",
              "  0.5389905571937561,\n",
              "  0.5351919531822205,\n",
              "  0.5329620838165283,\n",
              "  0.5290542244911194,\n",
              "  0.5267757773399353,\n",
              "  0.5236988663673401],\n",
              " 'val_accuracy': [0.14166666567325592,\n",
              "  0.15000000596046448,\n",
              "  0.21666666865348816,\n",
              "  0.23333333432674408,\n",
              "  0.25,\n",
              "  0.32499998807907104,\n",
              "  0.38333332538604736,\n",
              "  0.3916666805744171,\n",
              "  0.4333333373069763,\n",
              "  0.42500001192092896,\n",
              "  0.40833333134651184,\n",
              "  0.36666667461395264,\n",
              "  0.375,\n",
              "  0.36666667461395264,\n",
              "  0.3583333194255829,\n",
              "  0.3916666805744171,\n",
              "  0.3916666805744171,\n",
              "  0.3916666805744171,\n",
              "  0.42500001192092896,\n",
              "  0.44999998807907104,\n",
              "  0.4333333373069763,\n",
              "  0.4583333432674408,\n",
              "  0.5,\n",
              "  0.5166666507720947,\n",
              "  0.5249999761581421,\n",
              "  0.5166666507720947,\n",
              "  0.5583333373069763,\n",
              "  0.5666666626930237,\n",
              "  0.6000000238418579,\n",
              "  0.6083333492279053,\n",
              "  0.625,\n",
              "  0.6416666507720947,\n",
              "  0.6499999761581421,\n",
              "  0.6499999761581421,\n",
              "  0.6499999761581421,\n",
              "  0.6499999761581421,\n",
              "  0.6583333611488342,\n",
              "  0.6583333611488342,\n",
              "  0.6666666865348816,\n",
              "  0.6666666865348816,\n",
              "  0.6833333373069763,\n",
              "  0.6833333373069763,\n",
              "  0.6833333373069763,\n",
              "  0.7083333134651184,\n",
              "  0.7083333134651184,\n",
              "  0.7083333134651184,\n",
              "  0.7083333134651184,\n",
              "  0.7083333134651184,\n",
              "  0.7083333134651184,\n",
              "  0.7166666388511658,\n",
              "  0.7166666388511658,\n",
              "  0.7166666388511658,\n",
              "  0.7166666388511658,\n",
              "  0.7166666388511658,\n",
              "  0.7250000238418579,\n",
              "  0.7250000238418579,\n",
              "  0.7250000238418579,\n",
              "  0.7250000238418579,\n",
              "  0.7250000238418579,\n",
              "  0.7250000238418579,\n",
              "  0.7250000238418579,\n",
              "  0.7250000238418579,\n",
              "  0.7250000238418579,\n",
              "  0.7250000238418579,\n",
              "  0.7250000238418579,\n",
              "  0.7250000238418579,\n",
              "  0.7333333492279053,\n",
              "  0.7333333492279053,\n",
              "  0.7333333492279053,\n",
              "  0.7416666746139526,\n",
              "  0.7333333492279053,\n",
              "  0.7333333492279053,\n",
              "  0.7333333492279053,\n",
              "  0.7250000238418579,\n",
              "  0.7250000238418579,\n",
              "  0.7250000238418579,\n",
              "  0.7333333492279053,\n",
              "  0.7333333492279053,\n",
              "  0.7416666746139526,\n",
              "  0.7416666746139526,\n",
              "  0.7583333253860474,\n",
              "  0.7583333253860474,\n",
              "  0.7583333253860474,\n",
              "  0.7666666507720947,\n",
              "  0.7666666507720947,\n",
              "  0.7666666507720947,\n",
              "  0.7749999761581421,\n",
              "  0.7749999761581421,\n",
              "  0.7749999761581421,\n",
              "  0.7749999761581421,\n",
              "  0.7749999761581421,\n",
              "  0.7749999761581421,\n",
              "  0.7749999761581421,\n",
              "  0.7749999761581421,\n",
              "  0.7833333611488342,\n",
              "  0.7833333611488342,\n",
              "  0.7833333611488342,\n",
              "  0.7833333611488342,\n",
              "  0.7833333611488342,\n",
              "  0.7833333611488342]}"
            ]
          },
          "execution_count": 42,
          "metadata": {},
          "output_type": "execute_result"
        }
      ],
      "source": [
        "history.history"
      ]
    },
    {
      "cell_type": "markdown",
      "metadata": {
        "id": "_fVjs6jdXraX"
      },
      "source": [
        "Now visualize the loss over time using `history.history`: "
      ]
    },
    {
      "cell_type": "code",
      "execution_count": null,
      "metadata": {
        "scrolled": false,
        "id": "K0-GiahvXraY",
        "outputId": "21c9c1f4-870f-4d03-8792-1e3df5888a37"
      },
      "outputs": [
        {
          "data": {
            "text/plain": [
              "[Text(0, 0.5, 'Accuracy'), Text(0.5, 0, 'Epoch')]"
            ]
          },
          "execution_count": 43,
          "metadata": {},
          "output_type": "execute_result"
        },
        {
          "data": {
            "image/png": "[encoded data removed]",
            "text/plain": [
              "<Figure size 864x576 with 1 Axes>"
            ]
          },
          "metadata": {
            "needs_background": "light"
          },
          "output_type": "display_data"
        },
        {
          "data": {
            "image/png": "[encoded data removed]",
            "text/plain": [
              "<Figure size 864x576 with 1 Axes>"
            ]
          },
          "metadata": {
            "needs_background": "light"
          },
          "output_type": "display_data"
        }
      ],
      "source": [
        "# The history.history[\"loss\"] entry is a dictionary with as many values as epochs that the\n",
        "# model was trained on. \n",
        "df_loss_acc = pd.DataFrame(history.history)\n",
        "df_loss= df_loss_acc[['loss','val_loss']]\n",
        "df_loss.rename(columns={'loss':'train','val_loss':'validation'},inplace=True)\n",
        "df_acc= df_loss_acc[['accuracy','val_accuracy']]\n",
        "df_acc.rename(columns={'accuracy':'train','val_accuracy':'validation'},inplace=True)\n",
        "df_loss.plot(title='Model loss',figsize=(12,8)).set(xlabel='Epoch',ylabel='Loss')\n",
        "df_acc.plot(title='Model Accuracy',figsize=(12,8)).set(xlabel='Epoch',ylabel='Accuracy')"
      ]
    },
    {
      "cell_type": "markdown",
      "metadata": {
        "id": "zpxz-38-XraY"
      },
      "source": [
        "**Congratulations**! You've finished the assignment and built two models: One that recognizes  smiles, and another that recognizes SIGN language with almost 80% accuracy on the test set. In addition to that, you now also understand the applications of two Keras APIs: Sequential and Functional. Nicely done! \n",
        "\n",
        "By now, you know a bit about how the Functional API works and may have glimpsed the possibilities. In your next assignment, you'll really get a feel for its power when you get the opportunity to build a very deep ConvNet, using ResNets! "
      ]
    },
    {
      "cell_type": "markdown",
      "metadata": {
        "id": "wzkS2kXlXraY"
      },
      "source": [
        "<a name='6'></a>\n",
        "## 6 - Bibliography\n",
        "\n",
        "You're always encouraged to read the official documentation. To that end, you can find the docs for the Sequential and Functional APIs here: \n",
        "\n",
        "https://www.tensorflow.org/guide/keras/sequential_model\n",
        "\n",
        "https://www.tensorflow.org/guide/keras/functional"
      ]
    }
  ],
  "metadata": {
    "coursera": {
      "course_slug": "convolutional-neural-networks",
      "graded_item_id": "bwbJV",
      "launcher_item_id": "0TkXB"
    },
    "kernelspec": {
      "display_name": "Python 3",
      "language": "python",
      "name": "python3"
    },
    "language_info": {
      "codemirror_mode": {
        "name": "ipython",
        "version": 3
      },
      "file_extension": ".py",
      "mimetype": "text/x-python",
      "name": "python",
      "nbconvert_exporter": "python",
      "pygments_lexer": "ipython3",
      "version": "3.7.6"
    },
    "colab": {
      "name": "Convolution_model_Application_solution.ipynb",
      "provenance": []
    }
  },
  "nbformat": 4,
  "nbformat_minor": 0
}